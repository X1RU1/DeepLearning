{
  "cells": [
    {
      "cell_type": "markdown",
      "metadata": {
        "id": "ciMnwJM32nLh"
      },
      "source": [
        "### Group Members:\n",
        "\n",
        "- Xirui Yang, 23-756-265"
      ]
    },
    {
      "cell_type": "markdown",
      "metadata": {
        "id": "BlgVtH9N2nLj"
      },
      "source": [
        "# Assignment 1: Perceptron Learning\n",
        "\n",
        "The goal of this exercise is to apply the perceptron learning to a total of $N=100$ automatically generated, separable random data $X=\\bigl\\{\\vec x^1, \\vec x^2,\\ldots,\\vec x^ N \\bigr\\}$ with each $\\vec x^n = \\bigl(x_1^n, x_2^n\\bigr)^T$.\n",
        "Each data point $\\vec x^n$ is accompanied by an according target value $X=\\bigl\\{t^1, t^2,\\ldots,t^ N\\bigr\\}$ with $t^n \\in \\{-1,+1\\}$.\n",
        "\n",
        "## Data Generation\n",
        "The data should be generated such that\n",
        "$\\forall n\\leq\\frac N2\\colon \\vec x^n \\sim \\mathcal N_{\\vec\\mu_+, \\sigma_+}$.\n",
        "These samples will be our positive data labeled with $t^n=1$.\n",
        "Similarly, we generate our negative data with\n",
        "$\\forall n>\\frac N2\\colon \\vec x^n \\sim \\mathcal N_{\\vec\\mu_-, \\sigma_-}$\n",
        "and label them as $t^n=-1$.\n",
        "\n",
        "### Task 1: Data Samples\n",
        "\n",
        "Given the number of samples and the means (mu) and standard deviations (sigma) of positive (pos) and negative (neg) data, generate and return data samples including their labels. Remember to add the bias neuron $x_0=1$ to each of the samples.\n",
        "\n",
        "Hints:\n",
        "1. Use `numpy` package to generate data.\n",
        "2. Exemplary means could be selected as: $\\vec\\mu_+=(-5,3)^T$ and $\\vec\\mu_- = (5, -3)^T$. The standard deviations $\\sigma_+$ and $\\sigma_-$ should be selected such that the data is most likely separable."
      ]
    },
    {
      "cell_type": "code",
      "execution_count": 1,
      "metadata": {
        "id": "IoobiYjE2nLj"
      },
      "outputs": [],
      "source": [
        "import numpy as np\n",
        "\n",
        "def dataset(number_of_samples, mu_pos, sigma_pos, mu_neg, sigma_neg):\n",
        "    # create positive and negative data (vertical list)\n",
        "    positive_data = np.random.normal(mu_pos, sigma_pos, size = (number_of_samples//2, len(mu_pos)))\n",
        "    negative_data = np.random.normal(mu_neg, sigma_neg, size = (number_of_samples//2, len(mu_neg)))\n",
        "\n",
        "    # shuffle data (optional)\n",
        "    np.random.permutation(positive_data)\n",
        "    np.random.permutation(negative_data)\n",
        "\n",
        "    # assign positive and negative labels (vertical list)\n",
        "    positive_labels = np.ones((number_of_samples//2, 1))\n",
        "    negative_labels = (-1) * np.ones((number_of_samples//2, 1))\n",
        "\n",
        "    # concatenate positive and negative data\n",
        "    all_data = np.concatenate((positive_data, negative_data), axis=0)\n",
        "    all_labels = np.concatenate((positive_labels, negative_labels), axis=0)\n",
        "\n",
        "    # add the bias neuron  𝑥0=1 to the first place of each of the samples (every line)\n",
        "    all_data = np.hstack((np.ones((number_of_samples, 1)), all_data))\n",
        "\n",
        "    # return both X and T\n",
        "    return all_data, all_labels"
      ]
    },
    {
      "cell_type": "code",
      "source": [
        "import numpy\n",
        "numpy.random.permutation([[1, 2],\n",
        "            [3, 4],\n",
        "            [5, 6]])\n"
      ],
      "metadata": {
        "colab": {
          "base_uri": "https://localhost:8080/"
        },
        "id": "lXLLwGM97Mvd",
        "outputId": "12d4d7c5-6f4c-44cf-f820-ae2df0ee7cb6"
      },
      "execution_count": 2,
      "outputs": [
        {
          "output_type": "execute_result",
          "data": {
            "text/plain": [
              "array([[5, 6],\n",
              "       [1, 2],\n",
              "       [3, 4]])"
            ]
          },
          "metadata": {},
          "execution_count": 2
        }
      ]
    },
    {
      "cell_type": "markdown",
      "metadata": {
        "id": "jhW2oYY12nLk"
      },
      "source": [
        "### Task 2: Select Data Parameters and Line Parameters\n",
        "\n",
        "We want to select data points such that we exactly know where the ideal separating line should be placed.\n",
        "Note that data samples are not always separable since they are generated randomly.\n",
        "You should determine, which means and standard deviations are useful.\n",
        "\n",
        "Once you have defined your means, you should also define the separating line.\n",
        "The easiest is to provide it as Cartesian equation: $w_0 + w_1 x_1 + w_2 x_2$.\n",
        "Note that the separating line is orthogonal to the vector $\\overrightarrow{\\vec\\mu_- \\vec\\mu_+}$, that the normal of the line $(w_1, w_2)^T$ is orthogonal to the line, and that $w_0$ should be selected such that the line $\\vec w$ is in the middle of $\\vec\\mu_+$ and $\\vec\\mu_-$."
      ]
    },
    {
      "cell_type": "code",
      "execution_count": 3,
      "metadata": {
        "id": "ARO40dpP2nLk"
      },
      "outputs": [],
      "source": [
        "number_of_samples = 100\n",
        "mu_pos = [-5, 3]\n",
        "sigma_pos = [1, 1]\n",
        "mu_neg = [5, -3]\n",
        "sigma_neg = [1, 1]\n",
        "\n",
        "X, T = dataset(number_of_samples, mu_pos, sigma_pos, mu_neg, sigma_neg)\n",
        "\n",
        "separating_line_orthogonal = np.array(mu_pos)-np.array(mu_neg)\n",
        "w1, w2 = separating_line_orthogonal\n",
        "w0 = -w1 * ((mu_pos[0] + mu_neg[0]) / 2) - w2 * ((mu_pos[1] + mu_neg[1]) / 2)\n",
        "\n",
        "w_manual = np.array([w0, w1, w2]).reshape(-1, 1)"
      ]
    },
    {
      "cell_type": "markdown",
      "metadata": {
        "id": "Q-gEg2zZ2nLk"
      },
      "source": [
        "### Test 1: Linear Separability Test\n",
        "\n",
        "A line $a = f_{\\vec w}(\\vec x) = w_0 + w_1 x_1 + w_2 x_2$ linearly separates the data $(X,T)$ if $\\forall n: a^{[n]} t^{[n]} > 0$ for $a^{[n]} = f_{\\vec w}(\\vec x^{[n]})$.\n",
        "The below function implements this linear separability test. We apply this test to your data $(X,T)$ from Task 1 and your manually selected line $\\vec w$ from Task 2 to assure that the line separates the data."
      ]
    },
    {
      "cell_type": "code",
      "execution_count": 4,
      "metadata": {
        "colab": {
          "base_uri": "https://localhost:8080/"
        },
        "id": "OjN4PLmR2nLk",
        "outputId": "85b6a0c2-fcc4-4cbb-9c4d-d1dbd5866e40"
      },
      "outputs": [
        {
          "output_type": "stream",
          "name": "stdout",
          "text": [
            "The data is separated by the manually selected line\n"
          ]
        }
      ],
      "source": [
        "def separability_test(X, T, w):\n",
        "  # numpy.dot() - matrix product (n, 3) * (3, 1) = (n, 1) = activation\n",
        "  return np.all(np.dot(X,w) * T > 0)\n",
        "\n",
        "# Test 1: check that the weights are separating the data\n",
        "if separability_test(X, T, w_manual):\n",
        "    print(\"The data is separated by the manually selected line\")\n",
        "else:\n",
        "    print(\"The manually selected line does not separate the data\")"
      ]
    },
    {
      "cell_type": "markdown",
      "metadata": {
        "id": "wy4u-qYB2nLl"
      },
      "source": [
        "### Task 3: Perceptron\n",
        "\n",
        "The perceptron is defined as the Adaline $$a = f_{\\vec w}(\\vec x)$$ that is thresholded using the sign function $$\\mathrm{sign}(a) = \\begin{cases} +1 &\\text{if } a \\geq 0\\\\ -1 & \\text{otherwise.}\\end{cases}$$\n",
        "Implement a function that computes and returns the perceptron for a given data point $\\vec x$ and line parameters $\\vec w$."
      ]
    },
    {
      "cell_type": "code",
      "execution_count": 5,
      "metadata": {
        "id": "pWOPRToy2nLl"
      },
      "outputs": [],
      "source": [
        "def perceptron(x, w):\n",
        "    a = np.dot(x, w)\n",
        "\n",
        "    if a >= 0:\n",
        "        return 1\n",
        "    else:\n",
        "        return -1"
      ]
    },
    {
      "cell_type": "markdown",
      "metadata": {
        "id": "YV_8Dj0u2nLl"
      },
      "source": [
        "## Perceptron Learning\n",
        "\n",
        "The perceptron learning rule is defined as follows.\n",
        "First, the weights $\\vec w = (w_0, w_1, w_2)^T$ are initialized randomly.\n",
        "Then, for each sample $(x,t)$ of the dataset we check if the sample is correctly classified as $H(f_{\\vec w}(\\vec x)) t > 0$.\n",
        "If the sample is classified incorrectly, the weights are adapted: $w_0 = w_0 + t$, $w_1 = w_1 + tx_1$, $w_2 = w_2 + tx_2$.\n",
        "This step is repeated until all samples are classified correctly.\n",
        "\n",
        "\n",
        "### Task 4: Perceptron Learning Implementation\n",
        "\n",
        "Implement a function that performs perceptron learning for a given dataset $(X,T)$ and a given initial weight vector $\\vec w$.\n",
        "The final weight vector $\\vec w^*$ shall be returned from that function.\n",
        "Define a proper stopping criterion for the iteration.\n",
        "Consider in your implementation error cases that could arise.\n"
      ]
    },
    {
      "cell_type": "code",
      "execution_count": 6,
      "metadata": {
        "id": "kgsAJ8Yi2nLl"
      },
      "outputs": [],
      "source": [
        "def perceptron_learning(X, T, w):\n",
        "    # first, make a copy of your weights\n",
        "    w_star = np.copy(w)\n",
        "\n",
        "    # then, iterate over the data and perform perceptron learning\n",
        "    N = X.shape[0]# number of samples\n",
        "    M = X.shape[1]# number of features x1,x2,...xn\n",
        "\n",
        "    if N != T.shape[0]:\n",
        "        raise ValueError(\"Number of samples in X and T must be the same.\")\n",
        "\n",
        "    mistake = True\n",
        "\n",
        "    while mistake:\n",
        "        mistake = False\n",
        "\n",
        "        for i in range(N):\n",
        "            y = perceptron(X[i], w_star)\n",
        "            if y * T[i] <= 0:\n",
        "                w_star += T[i] * X[i]\n",
        "                mistake = True\n",
        "\n",
        "    # finally, return the optimal weights\n",
        "    return w_star"
      ]
    },
    {
      "cell_type": "markdown",
      "metadata": {
        "id": "7dAlyqec2nLl"
      },
      "source": [
        "### Test 2: Sanity Check\n",
        "\n",
        "We call the perceptron learning function with the data from task 1 and the manual line from task 2. If the line separates the data, it should not be changed. Here we test if this is the actual outcome of the perceptron learning function."
      ]
    },
    {
      "cell_type": "code",
      "execution_count": 7,
      "metadata": {
        "id": "ZyXuAtUn2nLl",
        "outputId": "7b1b0b59-cce7-4426-f7bd-3202e5c14144",
        "colab": {
          "base_uri": "https://localhost:8080/"
        }
      },
      "outputs": [
        {
          "output_type": "stream",
          "name": "stdout",
          "text": [
            "As desired, perceptron learning does not optimize an already separating line\n"
          ]
        }
      ],
      "source": [
        "w_star = perceptron_learning(X, T, w_manual)\n",
        "\n",
        "# check if the output is as expected\n",
        "if np.any(w_manual != w_star):\n",
        "    print(\"Warning: the perceptron algorithm seems to be wrong\")\n",
        "else:\n",
        "    print(\"As desired, perceptron learning does not optimize an already separating line\")"
      ]
    },
    {
      "cell_type": "markdown",
      "metadata": {
        "id": "N5X_Hngf2nLl"
      },
      "source": [
        "### Task 5: Weight Initialization\n",
        "\n",
        "Implement a function that generates and returns randomly initialized weights $\\vec w \\in [-1,1]^3$."
      ]
    },
    {
      "cell_type": "code",
      "execution_count": 8,
      "metadata": {
        "id": "ewdyl2RT2nLl"
      },
      "outputs": [],
      "source": [
        "def random_weights(lowest = -1, highest = 1):\n",
        "    #return 3-arrays\n",
        "    return np.random.uniform(lowest, highest, 3)"
      ]
    },
    {
      "cell_type": "markdown",
      "metadata": {
        "id": "Y6ogF3K_2nLl"
      },
      "source": [
        "### Task 6: Perceptron Learning Execution\n",
        "\n",
        "Call the perceptron learning function with the data from task 1 and the randomly generated initial weight vector from task 5.\n",
        "Store the resulting weight vector $\\vec w^*$."
      ]
    },
    {
      "cell_type": "code",
      "execution_count": 9,
      "metadata": {
        "id": "Jjp4v_Gs2nLm"
      },
      "outputs": [],
      "source": [
        "# create random weights\n",
        "w_initial = random_weights()\n",
        "\n",
        "# perform perceptron learning\n",
        "w_star = perceptron_learning(X, T, w_initial).reshape(-1, 1)"
      ]
    },
    {
      "cell_type": "markdown",
      "metadata": {
        "id": "GIgpI7452nLm"
      },
      "source": [
        "### Test 3: Result Validation\n",
        "\n",
        "We verify that the optimized $\\vec w^*$ actually separates the data."
      ]
    },
    {
      "cell_type": "code",
      "execution_count": 10,
      "metadata": {
        "id": "ZYL1iKk72nLm",
        "outputId": "27dbbf79-595f-419f-93f8-093e34f44a0f",
        "colab": {
          "base_uri": "https://localhost:8080/"
        }
      },
      "outputs": [
        {
          "output_type": "stream",
          "name": "stdout",
          "text": [
            "The data is separated by the optimal line\n"
          ]
        }
      ],
      "source": [
        "# verify that we have learned to separate the data\n",
        "if separability_test(X, T, w_star):\n",
        "    print(\"The data is separated by the optimal line\")\n",
        "else:\n",
        "    print(\"The optimal line does not separate the data\")"
      ]
    },
    {
      "cell_type": "markdown",
      "metadata": {
        "id": "Xgxvy_Nt2nLm"
      },
      "source": [
        "## Visualization\n",
        "\n",
        "We have selected our data to be 2-dimensional to be able to visualize the results.\n",
        "For this purpose, we would like to jointly plot the positive and the negative data from Task 1 together with the decision boundaries of the weight vectors obtained in Tasks 2 and 6.\n",
        "An example can be found in the exercise slides.\n",
        "\n",
        "### Task 7: Plotting\n",
        "\n",
        "First, we need to plot the data points such that positive data are plotted with green dots, and negative data with red dots.\n",
        "\n",
        "Then, we need to compute the line parameters. For this purpose, we define the separating line in Cartesian coordinates $f_{\\vec w}(\\vec x) = 0$ and solve it to the parametric form $x_2 = \\beta x_1 + \\gamma$."
      ]
    },
    {
      "cell_type": "code",
      "execution_count": 11,
      "metadata": {
        "id": "KEDGJftc2nLm",
        "outputId": "699e03b7-8343-4047-9542-7c16e7f88639",
        "colab": {
          "base_uri": "https://localhost:8080/",
          "height": 718
        }
      },
      "outputs": [
        {
          "output_type": "display_data",
          "data": {
            "text/plain": [
              "<Figure size 800x800 with 1 Axes>"
            ],
            "image/png": "[encoded data removed]"
          },
          "metadata": {}
        }
      ],
      "source": [
        "def line_parameters(w):\n",
        "    # compute parametric line parameters from Cartesian coordinates\n",
        "    beta = -w[1] / w[2]\n",
        "    gamma = -w[0] / w[2]\n",
        "    return beta, gamma\n",
        "\n",
        "\n",
        "from matplotlib import pyplot\n",
        "\n",
        "# create a square plot\n",
        "pyplot.figure(figsize=(8,8))\n",
        "\n",
        "# plot the positive data points\n",
        "pyplot.plot(X[:number_of_samples//2, 1], X[:number_of_samples//2, 2], \"g.\", label=\"positive data\")\n",
        "# plot the negative data points\n",
        "pyplot.plot(X[number_of_samples//2:, 1], X[number_of_samples//2:, 2], \"r.\", label=\"negative data\")\n",
        "\n",
        "# define positions where to evaluate the line (x1-axis)\n",
        "x1 = np.linspace(np.min(X[:, 1]), np.max(X[:, 1]), 100)\n",
        "\n",
        "# compute line parameters for manual line\n",
        "beta, gamma = line_parameters(w_manual)\n",
        "# now, compute the values according to our parametric form:\n",
        "x2 = beta * x1 + gamma\n",
        "# plot manual line\n",
        "pyplot.plot(x1, x2, \"m-\", label=\"manual line\")\n",
        "\n",
        "# compute line parameters for optimized line\n",
        "beta, gamma = line_parameters(w_star)\n",
        "# now, compute the values according to our parametric form:\n",
        "x2 = beta * x1 + gamma\n",
        "# plot optimized line\n",
        "pyplot.plot(x1, x2, \"b-\", label=\"optimized line\")\n",
        "\n",
        "# make the plot more beautiful\n",
        "pyplot.xlabel(\"X1\")\n",
        "pyplot.ylabel(\"X2\")\n",
        "pyplot.title(\"Samples and Decision Boundaries\")\n",
        "pyplot.legend()\n",
        "pyplot.show()"
      ]
    }
  ],
  "metadata": {
    "kernelspec": {
      "display_name": "Python 3 (ipykernel)",
      "language": "python",
      "name": "python3"
    },
    "language_info": {
      "codemirror_mode": {
        "name": "ipython",
        "version": 3
      },
      "file_extension": ".py",
      "mimetype": "text/x-python",
      "name": "python",
      "nbconvert_exporter": "python",
      "pygments_lexer": "ipython3",
      "version": "3.10.9"
    },
    "vscode": {
      "interpreter": {
        "hash": "a29cabff5744fce69e08a959ab87b9e77a9f67b498d08783caa8c3bb16f23a00"
      }
    },
    "colab": {
      "provenance": []
    }
  },
  "nbformat": 4,
  "nbformat_minor": 0
}