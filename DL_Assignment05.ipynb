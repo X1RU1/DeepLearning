{
  "cells": [
    {
      "cell_type": "markdown",
      "metadata": {
        "id": "pCRFWxY9_pjw"
      },
      "source": [
        "### Group Members:\n",
        "\n",
        "- Xirui Yang, 23-756-265"
      ]
    },
    {
      "cell_type": "markdown",
      "metadata": {
        "id": "oxBajezL_pjy"
      },
      "source": [
        "# Assignment 5: Classification in PyTorch\n",
        "\n",
        "\n",
        "For this exercise, we will switch to an implementation in PyTorch.\n",
        "The goal of this exercise is to get used to some concepts in PyTorch, such as relying on the `torch.tensor` data structure, implementing the network, the loss functions, the training loop and accuracy computation, which we will apply to binary and categorical classification.\n",
        "\n",
        "Please make sure that all your variables are compatible with `torch`.\n",
        "For example, you cannot mix `torch.tensor`s and `numpy.ndarray`s in any part of the code.\n",
        "\n",
        "## Dataset\n",
        "\n",
        "We will use two different datasets, the *churn* dataset https://archive.ics.uci.edu/dataset/563/iranian+churn+dataset for binary classification and the *winequality-red* dataset https://archive.ics.uci.edu/dataset/186/wine+quality for categorical classification. Both datasets are avaliable on the UCI Machine Learning repository.\n",
        "\n",
        "The binary classification dataset contains features extracted from customers of a telecommunication company, which are classified as either churn or not.\n",
        "The categorical classification dataset contains chemical measurements for six distinct qualities of a Portuguese white wine.\n",
        "In the former dataset, the class is indicated in the final column named \"Churn\", whereas for the latter, target information is provided in the last column named \"quality.\"\n",
        "\n",
        "Please run the code block below to download the data files."
      ]
    },
    {
      "cell_type": "code",
      "execution_count": null,
      "metadata": {
        "id": "yw6jozr2_pjy"
      },
      "outputs": [],
      "source": [
        "import os\n",
        "import zipfile\n",
        "import urllib.request\n",
        "\n",
        "# download the two dataset files\n",
        "dataset_files = {\n",
        "  \"churn_data.zip\": \"https://archive.ics.uci.edu/static/public/563/iranian+churn+dataset.zip\",\n",
        "  \"winequality-red.csv\": \"https://archive.ics.uci.edu/ml/machine-learning-databases/wine-quality/winequality-red.csv\"\n",
        "}\n",
        "for name, url in dataset_files.items():\n",
        "    # Skip downloading if the file already exists\n",
        "    if not os.path.exists(name):\n",
        "        # Download the file\n",
        "        urllib.request.urlretrieve(url, name)\n",
        "        print(f\"Downloaded {name} successfully.\")\n",
        "\n",
        "        # get the extention of file\n",
        "        base,extension = os.path.splitext(name)\n",
        "        if extension == \".zip\":\n",
        "            # Extract the zip file\n",
        "            with zipfile.ZipFile(name, 'r') as zip_ref:\n",
        "                zip_ref.extractall()\n",
        "            print(f\"Extracted {name} successfully.\")\n",
        "            # rename the file\n",
        "            os.rename(\"Customer Churn.csv\", base + \".csv\")"
      ]
    },
    {
      "cell_type": "markdown",
      "metadata": {
        "id": "sLSQtZJ1_pjz"
      },
      "source": [
        "### Task 1: Dataset Loading\n",
        "\n",
        "The first task deals with the loading of the datasets.\n",
        "When training networks in PyTorch, all data needs to be stored as datatype ``torch.tensor``.\n",
        "The data should be split between input sets $\\mathbf X = [\\vec x^{[1]}, \\ldots, \\vec x^{[N]}]^T \\in \\mathbb R^{N\\times D}$ and targets.\n",
        "There is **no need to add a bias neuron to the input**, and the transposition of the data matrix is different from what we have seen before.\n",
        "\n",
        "For the targets, we have to be more careful as there are differences w.r.t. the applied loss function.\n",
        "For binary classification, we need $\\mathbf T = [[t^{[1]}, \\ldots, t^{[N]}]]$ to be in dimension $\\mathbb R^{N\\times1}$ and of type ``torch.float``.\n",
        "For categorical classification, we only need the class indexes $\\vec t = [t^{[1]}, \\ldots, t^{[N]}]$ to be in dimension $\\mathbb N^N$ and of type ``torch.long``.\n",
        "\n",
        "Implement a function that returns both the input and the target data for a given dataset\n",
        "\n",
        "Note:\n",
        "\n",
        "1. You can use `csv.reader()` to read the dataset, or rely on other methods such as `pandas`.\n",
        "2. Please note that in the wine dataset CSV file, all values are separated by `;`, whereas in the churn dataset, they are separated by `,`.\n",
        "3. For the wine dataset, subtract the target by `-3` to get the target values in range $\\{0, 1, 2, 3, 4, 5\\}$."
      ]
    },
    {
      "cell_type": "code",
      "execution_count": null,
      "metadata": {
        "id": "6yg5V33B_pjz"
      },
      "outputs": [],
      "source": [
        "import torch\n",
        "import csv\n",
        "import pandas\n",
        "\n",
        "def dataset(dataset_file=\"winequality-red.csv\",delimiter=\";\"):\n",
        "  # read dataset\n",
        "  data = pandas.read_csv(dataset_file, delimiter=delimiter)\n",
        "\n",
        "  print (f\"Loaded dataset with {len(data)} samples\")\n",
        "\n",
        "  # convert to torch.tensor\n",
        "  data = torch.tensor(data.values, dtype=torch.float)\n",
        "\n",
        "  # get the input (data samples) without the target information\n",
        "  X = data[:, :-1]\n",
        "\n",
        "  if dataset_file == \"winequality-red.csv\":\n",
        "    # target is in the last column and needs to be converted to long\n",
        "    T = data[:, -1].long() - 3\n",
        "  else:\n",
        "    # target is in the last column and needs to be of type float\n",
        "    T = data[:, -1].view(-1, 1)\n",
        "\n",
        "  return X, T"
      ]
    },
    {
      "cell_type": "markdown",
      "metadata": {
        "id": "E_ghHeuB_pjz"
      },
      "source": [
        "### Test 1: Dataset Check\n",
        "\n",
        "Test 1 assures the correctness of the data and target dimensions.\n",
        "\n",
        "1. For the churn data, we assure that all dimensions are correct and that class labels are in range $\\{0, 1\\}$.\n",
        "\n",
        "2. For the wine dataset, we make sure that the dataset is in the correct dimensions, i.e., $\\mathbf X\\in \\mathbb R^{N\\times D}$ and $\\mathbf T \\in \\mathbb N^N$. And all class labels are in the correct range $[0, O-1]$ where $O$ is the number of classes."
      ]
    },
    {
      "cell_type": "code",
      "execution_count": null,
      "metadata": {
        "colab": {
          "base_uri": "https://localhost:8080/"
        },
        "id": "uRffbP8D_pj0",
        "outputId": "c2dfb2bf-f221-4df9-fd7b-e3654138553f"
      },
      "outputs": [
        {
          "name": "stdout",
          "output_type": "stream",
          "text": [
            "Loaded dataset with 3150 samples\n",
            "Loaded dataset with 1599 samples\n"
          ]
        }
      ],
      "source": [
        "X, T = dataset(\"churn_data.csv\",\",\")\n",
        "\n",
        "assert X.shape[1] == 13, X.shape[1]\n",
        "assert T.shape[1] == 1, T.shape[1]\n",
        "assert torch.all(T >= 0) and torch.all(T <= 1)\n",
        "assert T.dtype == torch.float\n",
        "\n",
        "X, T = dataset(\"winequality-red.csv\",\";\")\n",
        "\n",
        "assert X.shape[1] == 11, X.shape[1]\n",
        "assert torch.all(T >= 0) and torch.all(T <= 5)\n",
        "assert T.dtype == torch.long"
      ]
    },
    {
      "cell_type": "markdown",
      "metadata": {
        "id": "T3d5Y2l9_pj0"
      },
      "source": [
        "### Task 2: Split Training and Validation Data\n",
        "\n",
        "The data should be split into 80% for training and 20% for validation. Implement a function that takes the full dataset $(X,T)$ and returns $(X_t, T_t, X_v, T_v)$ accordingly.\n",
        "\n",
        "Write a function that splits off training and validation samples from a given dataset. **What do we need to assure before splitting?**"
      ]
    },
    {
      "cell_type": "code",
      "execution_count": null,
      "metadata": {
        "id": "AdtHezPr_pj0"
      },
      "outputs": [],
      "source": [
        "import random\n",
        "\n",
        "def split_training_data(X,T,train_percentage=0.8):\n",
        "  assert X.shape[0] == T.shape[0], \"Number of samples in X and T equals\"\n",
        "\n",
        "  separation = int(X.shape[0] * train_percentage)\n",
        "\n",
        "  # split into 80/20 training/validation\n",
        "  X_train = X[:separation]\n",
        "  T_train = T[:separation]\n",
        "  X_val = X[separation]\n",
        "  T_val = T[separation]\n",
        "\n",
        "  return X_train, T_train, X_val, T_val"
      ]
    },
    {
      "cell_type": "markdown",
      "metadata": {
        "id": "27QHCryF_pj0"
      },
      "source": [
        "### Task 3: Input Data Standardization\n",
        "\n",
        "As we have seen last week, the standardization of the data provides many advantages.\n",
        "Hence, in this task you should write a function that takes $(X_t,X_v)$ as input and standardizes them by subtracting the mean and dividing by the\n",
        "standard deviation of $X_t$, and returning the standardized versions of both. Assure that each input dimension is standardized individually.\n",
        "\n",
        "Implement a function that standardizes all input data for the training and validation set.\n",
        "Return the standardized data."
      ]
    },
    {
      "cell_type": "markdown",
      "metadata": {
        "id": "6FXGhxLu_pj1"
      },
      "source": [
        "Note:\n",
        "\n",
        "1. Use `torch.mean()` and `torch.std()` with the correct dimensions."
      ]
    },
    {
      "cell_type": "code",
      "execution_count": null,
      "metadata": {
        "id": "uDn_4iq-_pj1"
      },
      "outputs": [],
      "source": [
        "def standardize(X_train, X_val):\n",
        "  # compute statistics\n",
        "  mean = torch.mean(X_train, dim=0)\n",
        "  std = torch.std(X_train, dim=0)\n",
        "\n",
        "  std[std == 0] = 1\n",
        "\n",
        "  # standardize both X_train and X_val\n",
        "  X_train = (X_train - mean) / std\n",
        "  X_val = (X_val -  mean) / std\n",
        "  return X_train, X_val"
      ]
    },
    {
      "cell_type": "markdown",
      "metadata": {
        "id": "dig8o6aQ_pj1"
      },
      "source": [
        "## Network Implementation\n",
        "\n",
        "We will use a two-layer fully-connected network with $D$ input neurons, $K$ hidden neurons and $O$ output neurons.\n",
        "Depending on the task, $D$ and $O$ need to be selected appropriately, while $K$ is a parameter to play around with.\n",
        "In PyTorch, the easiest way to implement a network is by providing the requested sequence of layers to `torch.nn.Sequential`, which will build a network containing the given layers.\n",
        "We will use two `torch.nn.Linear` layers and one `torch.nn.Tanh` activation function in between.\n",
        "The network will return the logits $\\vec z$ for a given input $\\vec x$.\n",
        "\n",
        "\n",
        "### Task 4: Implement Network\n",
        "\n",
        "Implement a two-layer fully-connected network in PyTorch.\n",
        "The given network uses $\\tanh$ as activation function, and provide the possibility to change the number of inputs $D$, the number of hidden neurons $K$ and the number of outputs $O$."
      ]
    },
    {
      "cell_type": "code",
      "execution_count": null,
      "metadata": {
        "id": "Cjf58gkT_pj1"
      },
      "outputs": [],
      "source": [
        "import torch\n",
        "\n",
        "def Network(D, K, O):\n",
        "  return torch.nn.Sequential(\n",
        "    torch.nn.Linear(D, K),  # input layer\n",
        "    torch.nn.Tanh(),  # activation function\n",
        "    torch.nn.Linear(K, O) # output layer\n",
        "  )"
      ]
    },
    {
      "cell_type": "markdown",
      "metadata": {
        "id": "CeOcJrY0_pj1"
      },
      "source": [
        "### Task 5: Accuracy Computation\n",
        "\n",
        "To monitor the training process, we want to compute the accuracy.\n",
        "The function will obtain the logits $\\vec z$ extracted from the network and the according target $t$.\n",
        "Assure that this function works both for binary and categorical classification.\n",
        "\n",
        "Note: you can make use of the following pytorch functions:\n",
        "\n",
        "1. `torch.mean()` which computes the mean or average of the input tensor.\n",
        "2. `torch.argmax()` which returns the indices of the maximum values of all elements of the tensor."
      ]
    },
    {
      "cell_type": "code",
      "execution_count": null,
      "metadata": {
        "id": "S0xl4DPf_pj1"
      },
      "outputs": [],
      "source": [
        "def accuracy(Z, T):\n",
        "  # check if we have binary or categorical classification\n",
        "  if Z.shape[1] == 1:\n",
        "    # binary classification\n",
        "    predictions = (torch.sigmoid(Z) > 0.5).float()\n",
        "  else:\n",
        "    # categorical classification\n",
        "    softmax_output = torch.nn.functional.softmax(Z, dim=1)\n",
        "    predictions = torch.argmax(softmax_output, dim=1).float()\n",
        "\n",
        "  correct = (predictions == T).float()\n",
        "  accuracy = torch.mean(correct).item()\n",
        "\n",
        "  return accuracy"
      ]
    },
    {
      "cell_type": "markdown",
      "metadata": {
        "id": "tTH6VH8Q_pj1"
      },
      "source": [
        "### Test 2: Test Accuracy Function\n",
        "\n",
        "Test 2 assures the correctness of your accuracy function in both binary and categorical cases. We make sure that the accuracy will compute the correct values."
      ]
    },
    {
      "cell_type": "code",
      "execution_count": null,
      "metadata": {
        "id": "6_ScGWXp_pj1"
      },
      "outputs": [],
      "source": [
        "# first, test binary classification\n",
        "ZZ = torch.ones((20,1)) * -5.\n",
        "ZZ[15:20] = 5\n",
        "assert(abs(accuracy(ZZ,torch.zeros((20,1))) - 0.75) < 1e-8)\n",
        "assert(abs(accuracy(ZZ,torch.ones((20,1))) - 0.25) < 1e-8)\n",
        "\n",
        "# now, test categorical classification with 4 classes\n",
        "ZZ = torch.ones((20,4)) * -5\n",
        "ZZ[0:1,0] = 5\n",
        "ZZ[1:4,1] = 5\n",
        "ZZ[4:10,2] = 5\n",
        "ZZ[10:20,3] = 5\n",
        "\n",
        "assert(abs(accuracy(ZZ,torch.zeros(20)) - 0.05) < 1e-8)\n",
        "assert(abs(accuracy(ZZ,torch.ones(20)) - 0.15) < 1e-8)\n",
        "assert(abs(accuracy(ZZ,torch.ones(20)*2) - 0.3) < 2e-8)\n",
        "assert(abs(accuracy(ZZ,torch.ones(20)*3) - 0.5) < 1e-8)\n",
        "assert(abs(accuracy(ZZ,torch.tensor((0,1,1,1,2,2,2,2,2,2,3,3,3,3,3,3,3,3,3,3))) - 1.) < 1e-8)"
      ]
    },
    {
      "cell_type": "markdown",
      "metadata": {
        "id": "kZK7WdB3_pj1"
      },
      "source": [
        "### Task 6: Training Loop\n",
        "\n",
        "Implement a function that takes all necessary parameters to run a training on a given dataset.\n",
        "In this week, we will run gradient descent, i.e., we will train on the whole dataset in each training step, so there is no need to define anything related to batches.\n",
        "Select the optimizer to be `torch.optim.SGD`.\n",
        "\n",
        "Implement a training loop over **10'000** epochs with a learning rate of **$\\eta=0.1$**.\n",
        "Make sure that you train on the training data only, and **not** on the validation data.\n",
        "In each loop, compute and store the training loss, training accuracy, validation loss and validation accuracy.\n",
        "At the end, return the lists of these values.\n",
        "\n",
        "Note:\n",
        "\n",
        "1. When storing accuracy or loss values in a list, make sure to convert the to float via `v.item()`."
      ]
    },
    {
      "cell_type": "code",
      "execution_count": null,
      "metadata": {
        "id": "yDiVzqn9_pj2"
      },
      "outputs": [],
      "source": [
        "def train(X_train, T_train, X_val, T_val, network, loss, epochs=10000, eta=0.1, momentum=0):\n",
        "  optimizer = torch.optim.SGD(network.parameters(), lr=eta, momentum=momentum)\n",
        "  train_loss, train_acc, val_loss, val_acc = [], [], [], []\n",
        "\n",
        "  for epoch in range(epochs):\n",
        "    network.train()\n",
        "    Z_train = network(X_train)\n",
        "    loss_train = loss(Z_train, T_train)\n",
        "    loss_train.backward()\n",
        "    optimizer.step()\n",
        "    optimizer.zero_grad()\n",
        "    train_loss.append(loss_train.item())\n",
        "    acc_train = accuracy(Z_train, T_train)\n",
        "    train_acc.append(acc_train)\n",
        "\n",
        "    # test on validation data\n",
        "    network.eval()\n",
        "    with torch.no_grad():\n",
        "      Z_val = network(X_val)\n",
        "      loss_val = loss(Z_val, T_val)\n",
        "      val_loss.append(loss_val.item())\n",
        "      acc_val = accuracy(Z_val, T_val)\n",
        "      val_acc.append(acc_val)\n",
        "\n",
        "  return train_loss, train_acc, val_loss, val_acc"
      ]
    },
    {
      "cell_type": "markdown",
      "metadata": {
        "id": "qDbmlGZx_pj2"
      },
      "source": [
        "## Training and Evaluation\n",
        "\n",
        "Finally, we want to train our network on our data and plot the accuracy and loss values that were obtained through the epochs.\n",
        "Exemplary plots can be found in the exercise slides.\n",
        "\n",
        "\n",
        "### Task 7: Plotting Function\n",
        "\n",
        "Implement a function that takes four lists containing the training loss, the training accuracy, the validation loss and the validation accuracy and plot them into two plots.\n",
        "The first plot should contain the loss values for both training and validation. The second plot should contain the according accuracy values.\n",
        "\n",
        "Note:\n",
        "\n",
        "1. You might need to convert remaining `torch.tensor` values to `float`, lists, or `numpy.nadrray` for plotting."
      ]
    },
    {
      "cell_type": "code",
      "execution_count": null,
      "metadata": {
        "id": "f5zHkicJ_pj2"
      },
      "outputs": [],
      "source": [
        "from matplotlib import pyplot\n",
        "import numpy\n",
        "\n",
        "def plot(train_loss, train_acc, val_loss, val_acc):\n",
        "  epochs = numpy.arange(1, 10000 + 1)\n",
        "  pyplot.figure(figsize=(10,3))\n",
        "  ax = pyplot.subplot(121)\n",
        "  ax.plot(epochs, train_loss, \"g-\", label=\"Training set loss\")\n",
        "  ax.plot(epochs, val_loss, \"b-\", label=\"Validation set loss\")\n",
        "  pyplot.xlabel(\"Epoch\")\n",
        "  pyplot.ylabel(\"Loss\")\n",
        "  pyplot.title(\"Training and Validation Loss\")\n",
        "  pyplot.legend()\n",
        "  ax.legend()\n",
        "  ax.set_ylim(0, 1)\n",
        "\n",
        "  ax = pyplot.subplot(122)\n",
        "  ax.plot(epochs, train_acc, \"g-\", label=\"Training set accuracy\")\n",
        "  ax.plot(epochs, val_acc, \"b-\", label=\"Validation set accuracy\")\n",
        "  pyplot.xlabel(\"Epoch\")\n",
        "  pyplot.ylabel(\"Accuracy\")\n",
        "  pyplot.title(\"Training and Validation Accuracy\")\n",
        "  pyplot.legend()\n",
        "  ax.legend()\n",
        "  ax.set_ylim(0, 1)\n",
        "\n",
        "  pyplot.tight_layout()\n",
        "  pyplot.show()"
      ]
    },
    {
      "cell_type": "markdown",
      "metadata": {
        "id": "MClyoURq_pj2"
      },
      "source": [
        "### Task 8: Binary Classification\n",
        "\n",
        "\n",
        "1. Load the data for binary classification, using the ``\"churn_data.csv\"`` file.\n",
        "2. Split the data into training and validation sets.\n",
        "3. Standardize both training and validation input data using the function from Task 3.\n",
        "4. Instantiate a network with the correct number of input neurons, a reasonable number of $K$ hidden neurons and one output neuron.\n",
        "\n",
        "**Which loss function do we need for this task?**\n",
        "\n",
        "Train the network on the churn data with the learning rate of **$\\eta=0.1$** for 10'000 epochs and plot the training and validation accuracies and losses."
      ]
    },
    {
      "cell_type": "code",
      "execution_count": null,
      "metadata": {
        "colab": {
          "base_uri": "https://localhost:8080/",
          "height": 324
        },
        "id": "fgSfD4Ev_pj2",
        "outputId": "f63a20b9-02b7-44fa-a36c-2402c089fefb"
      },
      "outputs": [
        {
          "name": "stdout",
          "output_type": "stream",
          "text": [
            "Loaded dataset with 3150 samples\n"
          ]
        },
        {
          "data": {
            "image/png": "[encoded data removed]",
            "text/plain": [
              "<Figure size 1000x300 with 2 Axes>"
            ]
          },
          "metadata": {},
          "output_type": "display_data"
        }
      ],
      "source": [
        "import numpy\n",
        "\n",
        "loss = torch.nn.BCEWithLogitsLoss()\n",
        "# load dataset\n",
        "X, T = dataset(\"churn_data.csv\", \",\")\n",
        "# split dataset\n",
        "X_train, T_train, X_val, T_val = split_training_data(X, T)\n",
        "# standardize input data\n",
        "X_train, X_val = standardize(X_train, X_val)\n",
        "# initiate the network\n",
        "D = X_train.shape[1]\n",
        "K = 20\n",
        "O = 1\n",
        "network = Network(D, K, O)\n",
        "\n",
        "# train network on our data\n",
        "results = train(X_train, T_train, X_val, T_val, network, loss)\n",
        "train_loss, train_acc, val_loss, val_acc = numpy.array(results)\n",
        "\n",
        "# plot the results\n",
        "plot(train_loss, train_acc, val_loss, val_acc)"
      ]
    },
    {
      "cell_type": "markdown",
      "metadata": {
        "id": "dU_RdOtU_pj2"
      },
      "source": [
        "Considering accuracies exceeding 90%, do you think our evaluation might be flawed? If so, what aspects could we be neglecting?\n",
        "\n",
        "Data Leakage, imbalanced data, evaluation metric choice."
      ]
    },
    {
      "cell_type": "markdown",
      "metadata": {
        "id": "_ziTYAs4_pj2"
      },
      "source": [
        "### Task 9: Categorical Classification\n",
        "\n",
        "1. Load the data for categorical classification, using the ``\"winequality-red.csv\"`` file.\n",
        "2. Split the data into training and validation sets.\n",
        "3. Standardize both training and validation input data using the function from Task 3.\n",
        "4. **How many input and output neurons do we need?** Change the number of input, hidden, and output neurons accordingly.\n",
        "4. Build a network with these params you decide.\n",
        "\n",
        "**Which loss function do we need this time?**\n",
        "\n",
        "Train the network on the wine data with the learning rate of **$\\eta=0.1$** for 10'000 epochs and plot the training and validation accuracies and losses."
      ]
    },
    {
      "cell_type": "code",
      "execution_count": null,
      "metadata": {
        "colab": {
          "base_uri": "https://localhost:8080/",
          "height": 324
        },
        "id": "jO5qwlsi_pj2",
        "outputId": "de9dbbfa-b6dc-41f1-efeb-1b2f0ce11087"
      },
      "outputs": [
        {
          "name": "stdout",
          "output_type": "stream",
          "text": [
            "Loaded dataset with 1599 samples\n"
          ]
        },
        {
          "data": {
            "image/png": "[encoded data removed]",
            "text/plain": [
              "<Figure size 1000x300 with 2 Axes>"
            ]
          },
          "metadata": {},
          "output_type": "display_data"
        }
      ],
      "source": [
        "loss = torch.nn.CrossEntropyLoss()\n",
        "# load dataset\n",
        "X, T = dataset(\"winequality-red.csv\", \";\")\n",
        "# split dataset\n",
        "X_train, T_train, X_val, T_val = split_training_data(X, T)\n",
        "# standardize input data\n",
        "X_train, X_val = standardize(X_train, X_val)\n",
        "# instantiate network\n",
        "D = X_train.shape[1]\n",
        "K = 50\n",
        "O = len(T_train)\n",
        "network = Network(D, K, O)\n",
        "\n",
        "# train network on our data\n",
        "results = train(X_train, T_train, X_val, T_val, network, loss)\n",
        "train_loss, train_acc, val_loss, val_acc = numpy.array(results)\n",
        "\n",
        "\n",
        "# plot the results\n",
        "plot(train_loss, train_acc, val_loss, val_acc)"
      ]
    },
    {
      "cell_type": "markdown",
      "metadata": {
        "id": "UibRlnxE_pj2"
      },
      "source": [
        "When reviewing the plots, do you identify any potential concerns? If so, what actions could be taken to mitigate?\n",
        "\n",
        "Overfitting.\n",
        "Action: Regulatization, early stopping, model selection."
      ]
    }
  ],
  "metadata": {
    "colab": {
      "provenance": []
    },
    "interpreter": {
      "hash": "2dd53f8ad749bca69f7250ce75eb4f0def59db5cf79075a9716322ffc58e8a2e"
    },
    "kernelspec": {
      "display_name": "Python 3.8.10 ('DL')",
      "language": "python",
      "name": "python3"
    },
    "language_info": {
      "codemirror_mode": {
        "name": "ipython",
        "version": 3
      },
      "file_extension": ".py",
      "mimetype": "text/x-python",
      "name": "python",
      "nbconvert_exporter": "python",
      "pygments_lexer": "ipython3",
      "version": "3.12.2"
    },
    "orig_nbformat": 4
  },
  "nbformat": 4,
  "nbformat_minor": 0
}