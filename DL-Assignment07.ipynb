{
  "cells": [
    {
      "cell_type": "markdown",
      "source": [
        "### Group Members:\n",
        "\n",
        "- Xirui Yang, 23-756-265"
      ],
      "metadata": {
        "id": "yxLI5FHut4wz"
      }
    },
    {
      "cell_type": "markdown",
      "metadata": {
        "id": "b0YardHptsEY"
      },
      "source": [
        "# Assignment 7: Transfer Learning\n",
        "\n",
        "\n",
        "The goal of this exercise is to learn how to use pre-trained networks in transfer learning tasks.\n",
        "We will make use of networks trained on ImageNet, and apply them to related problems, i.e., the classification of $6$ categories such as buildings, forests, glaciers, mountains, seas, and streets."
      ]
    },
    {
      "cell_type": "markdown",
      "metadata": {
        "id": "l_0OwrqrtsEa"
      },
      "source": [
        "## Dataset\n",
        "\n",
        "For this exercise we use the  [Intel Image Classification](https://www.kaggle.com/datasets/puneet6060/intel-image-classification) dataset that can be downloaded from the official website [here]({https://www.kaggle.com/datasets/puneet6060/intel-image-classification}).\n",
        "The dataset contains $25000$ color images of pixels size $150\\times 150$ in $6$ classes: buildings, forests, glaciers, mountains, seas, and streets. We will be using only $17000$ of those images where $14000$ are for training and $3000$ for test."
      ]
    },
    {
      "cell_type": "markdown",
      "metadata": {
        "id": "xs5ZsrSZtsEb"
      },
      "source": [
        "### Test 0: Download and check if dataset is downloaded correctly"
      ]
    },
    {
      "cell_type": "markdown",
      "metadata": {
        "id": "HZ3S72b4tsEb"
      },
      "source": [
        "#### Download the dataset by running the code below"
      ]
    },
    {
      "cell_type": "code",
      "execution_count": 55,
      "metadata": {
        "id": "XmEpsaUwtsEb"
      },
      "outputs": [],
      "source": [
        "#Library for downloading datasets from Kaggle\n",
        "! pip install opendatasets --upgrade --quiet"
      ]
    },
    {
      "cell_type": "code",
      "execution_count": 56,
      "metadata": {
        "id": "l84TO_E7tsEb",
        "colab": {
          "base_uri": "https://localhost:8080/"
        },
        "outputId": "288f69b9-7f95-4c6c-ede1-90cb8aeffe93"
      },
      "outputs": [
        {
          "output_type": "stream",
          "name": "stdout",
          "text": [
            "Skipping, found downloaded files in \"./intel-image-classification\" (use force=True to force download)\n"
          ]
        }
      ],
      "source": [
        "import json\n",
        "\n",
        "# Write kaggle.json file\n",
        "with open('kaggle.json', 'w') as file:\n",
        "    json.dump({'username': '', 'key': ''}, file)\n",
        "\n",
        "import opendatasets\n",
        "opendatasets.download('https://www.kaggle.com/puneet6060/intel-image-classification')"
      ]
    },
    {
      "cell_type": "markdown",
      "metadata": {
        "id": "v2e1x2QntsEb"
      },
      "source": [
        "After running the cell above, just verify that the dataset has been downloaded correctly by running the cell below."
      ]
    },
    {
      "cell_type": "code",
      "execution_count": 57,
      "metadata": {
        "id": "FSsEM-ybtsEb",
        "colab": {
          "base_uri": "https://localhost:8080/"
        },
        "outputId": "e30fb3fa-02cb-4ed0-be03-9e3b2ce812b0"
      },
      "outputs": [
        {
          "output_type": "stream",
          "name": "stdout",
          "text": [
            "Dataset is validated successfully. Test Passed\n"
          ]
        }
      ],
      "source": [
        "import os\n",
        "\n",
        "def count_images(directory):\n",
        "    \"\"\"Count the number of image files in the given directory and its subdirectories.\"\"\"\n",
        "    count = 0\n",
        "    for root, dirs, files in os.walk(directory):\n",
        "        count += sum(1 for file in files if file.endswith(('.jpg', '.jpeg', '.png')))\n",
        "    return count\n",
        "\n",
        "def validate_dataset(base_path):\n",
        "    \"\"\"Validate the structure and the count of images in the dataset.\"\"\"\n",
        "    expected_structure = {\n",
        "        'seg_train': 14034,\n",
        "        'seg_test': 3000\n",
        "    }\n",
        "\n",
        "    errors = []\n",
        "\n",
        "    # Check if base directory exists\n",
        "    if not os.path.exists(base_path):\n",
        "        errors.append(f\"Base directory {base_path} does not exist.\")\n",
        "        return errors\n",
        "\n",
        "    # Check each subdirectory and count images\n",
        "    for folder, expected_count in expected_structure.items():\n",
        "        folder_path = os.path.join(base_path, folder)\n",
        "        if not os.path.exists(folder_path):\n",
        "            errors.append(f\"Expected folder {folder_path} does not exist.\")\n",
        "        else:\n",
        "            image_count = count_images(folder_path)\n",
        "            if image_count != expected_count:\n",
        "                errors.append(f\"Folder {folder} has {image_count} images, expected {expected_count}.\")\n",
        "\n",
        "    return errors\n",
        "\n",
        "# Specify the path to the base of the dataset\n",
        "base_dataset_path = \"intel-image-classification/\" #Change if you downloaded manually to some other path\n",
        "\n",
        "# Perform the validation\n",
        "validation_errors = validate_dataset(base_dataset_path)\n",
        "\n",
        "if not validation_errors:\n",
        "    print(\"Dataset is validated successfully. Test Passed\")\n",
        "else:\n",
        "    print(\"Errors found in dataset validation:\")\n",
        "    for error in validation_errors:\n",
        "        print(error)"
      ]
    },
    {
      "cell_type": "markdown",
      "metadata": {
        "id": "hmoik7LftsEc"
      },
      "source": [
        "### Task 1: Data Transformation\n",
        "\n",
        "We need to instantiate a proper `torchvision.transform` instance to create the same input structure as used for training our network.\n",
        "We need to combine 4 transforms. The different transforms in Pytorch are available here: https://pytorch.org/vision/0.9/transforms.html.\n",
        "\n",
        "1. We need to resize the image such that the shorter side has size 256.\n",
        "2. We need to take the center crop of size $224\\times224$ from the image.\n",
        "3. We need to convert the image into a tensor (including pixel values scaling)\n",
        "4. We need to normalize the pixel values with mean $(0.485, 0.456, 0.406)$ and standard deviation $(0.229, 0.224, 0.225)$.\n",
        "\n",
        "Since we will use networks pre-trained on ImageNet, we need to perform the exact same transform as used for ImageNet testing."
      ]
    },
    {
      "cell_type": "code",
      "execution_count": 58,
      "metadata": {
        "id": "dCSRWqiatsEc"
      },
      "outputs": [],
      "source": [
        "import torch\n",
        "import torchvision\n",
        "\n",
        "imagenet_transform = torchvision.transforms.Compose([\n",
        "    torchvision.transforms.Resize(256),\n",
        "    torchvision.transforms.CenterCrop(224),\n",
        "    torchvision.transforms.ToTensor(),\n",
        "    torchvision.transforms.Normalize(mean=[0.485, 0.456, 0.406],\n",
        "                    std=[0.229, 0.224, 0.225])\n",
        "])"
      ]
    },
    {
      "cell_type": "markdown",
      "metadata": {
        "id": "F2e8dRnStsEc"
      },
      "source": [
        "### Task 2: Dataset Loading\n",
        "\n",
        "We here use the [ImageFolder](https://pytorch.org/vision/main/generated/torchvision.datasets.ImageFolder.html) class from pytorch to load our training and test set respectively.\n",
        "\n",
        "This task consists of two parts:\n",
        "\n",
        "1. Create two datasets, one for the training set, one for the test set. Use the transform defined above.\n",
        "2. Once the datasets are created, create two data loaders, one for training set, one for test set. Use a proper value of the batch-size $B = 256$. Make sure the trainloader shuffle is set to True."
      ]
    },
    {
      "cell_type": "code",
      "execution_count": 59,
      "metadata": {
        "id": "5937pzAgtsEc"
      },
      "outputs": [],
      "source": [
        "from torchvision.datasets import ImageFolder\n",
        "\n",
        "#Path to your training and test data (If different, change the path accordingly)\n",
        "train_dir = './intel-image-classification/seg_train/seg_train/'\n",
        "test_dir = './intel-image-classification/seg_test/seg_test/'\n",
        "\n",
        "trainset = ImageFolder(\n",
        "  root = train_dir,\n",
        "  transform = imagenet_transform\n",
        ")\n",
        "\n",
        "testset = ImageFolder(\n",
        "  root = test_dir,\n",
        "  transform = imagenet_transform\n",
        ")"
      ]
    },
    {
      "cell_type": "code",
      "execution_count": 60,
      "metadata": {
        "id": "G8Ks9l4DtsEc"
      },
      "outputs": [],
      "source": [
        "B = 32\n",
        "trainloader = torch.utils.data.DataLoader(trainset, batch_size=B, shuffle=True)\n",
        "testloader = torch.utils.data.DataLoader(testset, batch_size=B, shuffle=False)"
      ]
    },
    {
      "cell_type": "markdown",
      "metadata": {
        "id": "SUQuiiwktsEc"
      },
      "source": [
        "### Test 1: Data Size and Types\n",
        "\n",
        "We check that all input images are `torch.tensors` of size $3\\times224\\times224$ and of type `torch.float` and that all labels are of type `int`.\n",
        "\n",
        "Note: the sanity check is only performed on the test set."
      ]
    },
    {
      "cell_type": "code",
      "execution_count": 61,
      "metadata": {
        "id": "KpphFmkCtsEc"
      },
      "outputs": [],
      "source": [
        "for x, t in testset:\n",
        "  assert isinstance(x, torch.Tensor)\n",
        "  assert isinstance(t, int)\n",
        "  assert x.shape==(3,224,224)\n",
        "  assert x.dtype==torch.float\n",
        "  assert x.max() < 3.0\n",
        "  assert x.min() > -3.0"
      ]
    },
    {
      "cell_type": "markdown",
      "metadata": {
        "id": "CDug3Ju_tsEd"
      },
      "source": [
        "## Deep Feature Extraction\n",
        "\n",
        "We will use a pre-trained network available in `PyTorch`.\n",
        "Particularly, we will use a ResNet-50 architecture, but other architectures can also be tested.\n",
        "Fortunately, PyTorch provides simple interfaces to obtain pre-trained models, e.g., using the `torchvision.models.resnet50` interface function.\n",
        "\n",
        "In order to use the networks in a different dataset, we need to change their outputs.\n",
        "There are several possibilities on how to achieve that, and you have the freedom to choose.\n",
        "\n",
        "For your reference, the implementation of the `forward` function of ResNet networks (including ResNet-50) can be found here: https://github.com/pytorch/vision/blob/main/torchvision/models/resnet.py#L266\n",
        "\n",
        "You can also check if other networks perform better, for example, deeper ResNet topologies.\n",
        "Be aware that the strategy to replace the last fully-connected layer might not work the same way in other network topologies, only in residual networks."
      ]
    },
    {
      "cell_type": "markdown",
      "metadata": {
        "id": "g7ucIMyLtsEd"
      },
      "source": [
        "### Task 3: Pre-trained Network Instantiation\n",
        "\n",
        "Instantiate two pre-trained networks of type ResNet-50.\n",
        "\n",
        "1. Freeze the feature layers of the first network.\n",
        "\n",
        "Note: Make use the `old TorchVision Interface` to load your pre-trained network. Here is the link: https://pytorch.org/vision/0.12/models.html"
      ]
    },
    {
      "cell_type": "code",
      "execution_count": 62,
      "metadata": {
        "id": "_SH55gD9tsEd"
      },
      "outputs": [],
      "source": [
        "# instantiate the first pre-trained resnet 50 network\n",
        "network_1 = torchvision.models.resnet50(pretrained=True)\n",
        "# Make sure to freeze all the layers of the network.\n",
        "for param in network_1.parameters():\n",
        "  param.require_grad = False\n",
        "\n",
        "# instantiate the second pre-trained resnet 50 network (optinally) without the freezing\n",
        "network_2 = torchvision.models.resnet50(pretrained=True)"
      ]
    },
    {
      "cell_type": "markdown",
      "metadata": {
        "id": "h-15AiqktsEd"
      },
      "source": [
        "### Task 4: Network Implementation\n",
        "\n",
        "We want to modify the network such that we extract the logits for the 6 classes from the last fully-connected layer of the network.\n",
        "\n",
        "Implement a function that:\n",
        "1. Replaces the current last linear layer of the pre-trained network with a new linear layer that has $O$ units ($O$ represents the number of classes in our dataset)."
      ]
    },
    {
      "cell_type": "code",
      "execution_count": 63,
      "metadata": {
        "id": "XWhCRjP3tsEd"
      },
      "outputs": [],
      "source": [
        "def replace_last_layer(network, O=6):\n",
        "  # replace the last linear layer with the new layer\n",
        "  num_features = network.fc.in_features\n",
        "  new_last_layer = torch.nn.Linear(num_features, O)\n",
        "  network.fc = new_last_layer\n",
        "\n",
        "  return network"
      ]
    },
    {
      "cell_type": "markdown",
      "metadata": {
        "id": "7UiwtONitsEd"
      },
      "source": [
        "### Test 2: Last layer dimensions\n",
        "\n",
        "This test ensures that the function return a network having the correct number of input and output units in the last layer."
      ]
    },
    {
      "cell_type": "code",
      "execution_count": 64,
      "metadata": {
        "id": "gmk88h4BtsEd"
      },
      "outputs": [],
      "source": [
        "O = 6\n",
        "for network in (network_1, network_2):\n",
        "  new_model = replace_last_layer(network, O=O)\n",
        "  assert new_model.fc.out_features == O\n",
        "  assert new_model.fc.in_features == 2048"
      ]
    },
    {
      "cell_type": "markdown",
      "metadata": {
        "id": "DyYZqfi3tsEd"
      },
      "source": [
        "## Network Training\n",
        "Implement a function that takes all necessary parameters to run a training on a given dataset.\n",
        "Select the optimizer to be `torch.optim.SGD` and `torch.nn.CrossEntropyLoss` as the loss function.\n",
        "The test set will be used as the validation set."
      ]
    },
    {
      "cell_type": "markdown",
      "metadata": {
        "id": "qSb2qKzztsEd"
      },
      "source": [
        "### Task 5: Training and Evaluation Loop\n",
        "\n",
        "Implement a training loop over a specific number of epochs (5) with a learning rate of $\\eta=0.001$ and momentum of $\\mu = 0.9$. The function should return the predictions and the labels on the validation set after 5 epochs.\n",
        "\n",
        "In each loop, compute and print the training loss, training accuracy, validation loss and validation accuracy.\n",
        "\n",
        "Make sure that you train on the training data only, and `not` on the validation data."
      ]
    },
    {
      "cell_type": "code",
      "execution_count": 67,
      "metadata": {
        "id": "_rI0pdQ8tsEd"
      },
      "outputs": [],
      "source": [
        "def train_eval(network, epochs=5, eta=0.001, mu=0.9):\n",
        "  optimizer = torch.optim.SGD(network.parameters(), lr=eta, momentum=mu)\n",
        "  loss = torch.nn.CrossEntropyLoss()\n",
        "\n",
        "  # instantiate the correct device\n",
        "  device = torch.device(\"cuda\")\n",
        "  network = network.to(device)\n",
        "\n",
        "  for epoch in range(epochs):\n",
        "    # training process\n",
        "    total_train_loss = 0\n",
        "    total_train_correct = 0\n",
        "    total_train_samples = 0\n",
        "\n",
        "    for x,t in trainloader:\n",
        "      optimizer.zero_grad()\n",
        "      # put data to device\n",
        "      x, t = x.to(device), t.to(device)\n",
        "      # train\n",
        "      z = network(x)  # logits\n",
        "      J = loss(z, t)\n",
        "      J.backward()\n",
        "      optimizer.step()\n",
        "      total_train_loss += J.item() * x.size(0)\n",
        "      total_train_correct += torch.sum(torch.argmax(z, dim=1) == t).item()\n",
        "      total_train_samples += x.size(0)\n",
        "    avg_train_loss = total_train_loss / total_train_samples\n",
        "    avg_train_acc = total_train_correct / total_train_samples\n",
        "\n",
        "    # testing process\n",
        "    total_test_loss = 0\n",
        "    total_test_correct = 0\n",
        "    total_test_samples = 0\n",
        "    with torch.no_grad():\n",
        "      for x, t in testloader:\n",
        "        x = x.to(device)\n",
        "        t = t.to(device)\n",
        "        z = network(x)\n",
        "        J = loss(z, t)\n",
        "        total_test_loss += J.item() * x.size(0)\n",
        "        total_test_correct += torch.sum(torch.argmax(z, dim=1) == t).item()\n",
        "        total_test_samples += x.size(0)\n",
        "      avg_test_loss = total_test_loss / total_test_samples\n",
        "      avg_test_acc = total_test_correct / total_test_samples\n",
        "\n",
        "    # Calculate and print accuracies and losses for current epoch\n",
        "    print(f\"Epoch {epoch+1}/{epochs}, \"\n",
        "       f\"Train Loss: {avg_train_loss:.4f}, \"\n",
        "       f\"Train Acc: {avg_train_acc:.4f}, \"\n",
        "       f\"Test Loss: {avg_test_loss:.4f}, \"\n",
        "       f\"Test Acc: {avg_test_acc:.4f}\")\n",
        "\n",
        "    # Save predictions and target labels of the test set after the last epoch\n",
        "    pred, target = [], [] #Store only the test results\n",
        "    pred.append(avg_test_loss)\n",
        "    target.append(avg_test_acc)\n",
        "\n",
        "  return pred, target"
      ]
    },
    {
      "cell_type": "markdown",
      "metadata": {
        "id": "VbnFsOx4tsEd"
      },
      "source": [
        "### Task 6: Network Fine-Tuning with Frozen Layers\n",
        "\n",
        "Create a network that has feature layers frozen with $6$ output units.\n",
        "Fine-tune the created network on our Intel Image Classification data using the previous function."
      ]
    },
    {
      "cell_type": "code",
      "execution_count": 68,
      "metadata": {
        "id": "mhWg-JcZtsEd",
        "colab": {
          "base_uri": "https://localhost:8080/"
        },
        "outputId": "679e1436-fd96-4d7f-e498-d794cbe1913d"
      },
      "outputs": [
        {
          "output_type": "stream",
          "name": "stdout",
          "text": [
            "Epoch 1/5, Train Loss: 0.2282, Train Acc: 0.9272, Test Loss: 2.8420, Test Acc: 0.2503\n",
            "Epoch 2/5, Train Loss: 0.1183, Train Acc: 0.9590, Test Loss: 3.0414, Test Acc: 0.2363\n",
            "Epoch 3/5, Train Loss: 0.0734, Train Acc: 0.9768, Test Loss: 3.1609, Test Acc: 0.2527\n",
            "Epoch 4/5, Train Loss: 0.0446, Train Acc: 0.9864, Test Loss: 3.3852, Test Acc: 0.2560\n",
            "Epoch 5/5, Train Loss: 0.0251, Train Acc: 0.9937, Test Loss: 3.5479, Test Acc: 0.2563\n"
          ]
        }
      ],
      "source": [
        "network_with_frozen_layers = replace_last_layer(network_1, O=6)\n",
        "pred_frozen, targ_frozen = train_eval(network_with_frozen_layers)"
      ]
    },
    {
      "cell_type": "markdown",
      "metadata": {
        "id": "lbeXDuiNtsEe"
      },
      "source": [
        "### Task 7: Network Fine-Tuning without Frozen Layers\n",
        "\n",
        "Create a network from the second pre-trained network with $6$ output units. This network should not have the layers frozen.\n",
        "Fine-tune the created network on our dataset.\n",
        "\n",
        "Note:\n",
        "\n",
        "  * The fine-tuning of the network can take a long time (> 30 minutes) when the layers are not frozen."
      ]
    },
    {
      "cell_type": "code",
      "execution_count": 75,
      "metadata": {
        "id": "z9AVt_8XtsEe",
        "colab": {
          "base_uri": "https://localhost:8080/"
        },
        "outputId": "0fe159e1-4f98-4a4f-dbfa-ee4e3ff2c6c2"
      },
      "outputs": [
        {
          "output_type": "stream",
          "name": "stdout",
          "text": [
            "Epoch 1/5, Train Loss: 0.0936, Train Acc: 0.9811, Test Loss: 2.9918, Test Acc: 0.2573\n",
            "Epoch 2/5, Train Loss: 0.0252, Train Acc: 0.9945, Test Loss: 3.2335, Test Acc: 0.2583\n",
            "Epoch 3/5, Train Loss: 0.0195, Train Acc: 0.9952, Test Loss: 3.4389, Test Acc: 0.2560\n",
            "Epoch 4/5, Train Loss: 0.0123, Train Acc: 0.9971, Test Loss: 3.5531, Test Acc: 0.2653\n",
            "Epoch 5/5, Train Loss: 0.0101, Train Acc: 0.9976, Test Loss: 3.6509, Test Acc: 0.2687\n"
          ]
        }
      ],
      "source": [
        "network_normal = replace_last_layer(network_2, O=6) # Use network_2 defined above and replace the last layer\n",
        "pred_unfrozen, targ_unfrozen = train_eval(network_normal)"
      ]
    },
    {
      "cell_type": "markdown",
      "metadata": {
        "id": "OZ2f_WWDtsEe"
      },
      "source": [
        "## Plotting\n",
        "\n",
        "Finally, we want to plot the confusion matrix of the test set.\n",
        "For this, we need use the predictions and target values we saved from the previous tasks (Task 6 and Task 7).\n",
        "Finally, we can make use of the `sklearn.metrics.confusion_matrix` to compute the confusion matrix.\n",
        "You can utilize `sklearn.metrics.ConfusionMatrixDisplay` for displaying the confusion matrix, or `pyplot.imshow` and adding the according labels.\n",
        "\n",
        "Note:\n",
        "\n",
        "  * The documentation for the confusion matrix can be found here: https://scikit-learn.org/stable/modules/generated/sklearn.metrics.confusion_matrix.html\n",
        "  * The interface and an example for the `ConfusionMatrixDisplay` can be found here: https://scikit-learn.org/stable/modules/generated/sklearn.metrics.ConfusionMatrixDisplay.html"
      ]
    },
    {
      "cell_type": "markdown",
      "metadata": {
        "id": "pqqtYA1QtsEe"
      },
      "source": [
        "### Task 8: Confusion Matrix Plotting\n",
        "\n",
        "* Plot the confusion matrix for the fine-tuned network with frozen layers.\n",
        "* Also plot the confusion matrix for the second fine-tuned network without frozen layers.\n",
        "* Compare the two"
      ]
    },
    {
      "cell_type": "code",
      "execution_count": 90,
      "metadata": {
        "id": "garUj1N7tsEe",
        "colab": {
          "base_uri": "https://localhost:8080/",
          "height": 607
        },
        "outputId": "af152ca6-5ee8-41c6-c692-a8070712c473"
      },
      "outputs": [
        {
          "output_type": "display_data",
          "data": {
            "text/plain": [
              "<Figure size 800x600 with 2 Axes>"
            ],
            "image/png": "[encoded data removed]"
          },
          "metadata": {}
        }
      ],
      "source": [
        "from sklearn.metrics import confusion_matrix, ConfusionMatrixDisplay\n",
        "import matplotlib.pyplot as plt\n",
        "import numpy as np\n",
        "\n",
        "# add axis labels if required\n",
        "classes = trainset.classes\n",
        "\n",
        "# compute confusion matrix\n",
        "matrix_frozen = confusion_matrix(targ_frozen, pred_frozen) # Use predictions and target from the fine-tuned network with frozen layers\n",
        "matrix_unfrozen = confusion_matrix(targ_unfrozen, pred_unfrozen) # Use predictions and target from the fine-tuned network without frozen layers\n",
        "\n",
        "# plot confusion matrices\n",
        "# plot_conf_matrix1 = ConfusionMatrixDisplay(confusion_matrix=matrix_frozen, display_labels=classes)\n",
        "# plot_conf_matrix1.plot(xticks_rotation = \"vertical\")\n",
        "# plt.title(\"Confusion Matrix for Fine-Tuned Network with Frozen Layers\")\n",
        "# plt.xlabel(\"Prediction\")\n",
        "# plt.ylabel(\"Target\")\n",
        "\n",
        "plt.figure(figsize=(8, 6))\n",
        "plt.imshow(matrix_frozen, interpolation='nearest', cmap=plt.cm.Blues)\n",
        "plt.title(\"Confusion Matrix for Fine-Tuned Network with Frozen Layers\")\n",
        "plt.colorbar()\n",
        "tick_marks = np.arange(len(classes))\n",
        "plt.xticks(tick_marks, classes, rotation=45)\n",
        "plt.yticks(tick_marks, classes)\n",
        "plt.xlabel('Prediction')\n",
        "plt.ylabel('Target')\n",
        "\n",
        "# Add text annotations\n",
        "thresh = matrix_frozen.max() / 2.0\n",
        "for i in range(matrix_frozen.shape[0]):\n",
        "  for j in range(matrix_frozen.shape[1]):\n",
        "    plt.text(j, i, format(matrix_frozen[i, j], 'd'),\n",
        "                 ha=\"center\", va=\"center\",\n",
        "                 color=\"white\" if matrix_frozen[i, j] > thresh else \"black\")\n",
        "\n",
        "plt.tight_layout()\n",
        "\n",
        "plt.show()"
      ]
    },
    {
      "cell_type": "code",
      "execution_count": 91,
      "metadata": {
        "id": "Rq_h7q8utsEe",
        "colab": {
          "base_uri": "https://localhost:8080/",
          "height": 607
        },
        "outputId": "5aa5fd44-4793-442e-ec1e-fe3233c7bb68"
      },
      "outputs": [
        {
          "output_type": "display_data",
          "data": {
            "text/plain": [
              "<Figure size 800x600 with 2 Axes>"
            ],
            "image/png": "[encoded data removed]"
          },
          "metadata": {}
        }
      ],
      "source": [
        "# plot_conf_matrix2 = ConfusionMatrixDisplay(confusion_matrix=matrix_unfrozen, display_labels=classes)\n",
        "# plot_conf_matrix1.plot(xticks_rotation = \"vertical\")\n",
        "# plt.title(\"Confusion Matrix for Fine-Tuned Network without Frozen Layers\")\n",
        "# plt.xlabel(\"Prediction\")\n",
        "# plt.ylabel(\"Target\")\n",
        "\n",
        "plt.figure(figsize=(8, 6))\n",
        "plt.imshow(matrix_unfrozen, interpolation='nearest', cmap=plt.cm.Blues)\n",
        "plt.title(\"Confusion Matrix for Fine-Tuned Network without Frozen Layers\")\n",
        "plt.colorbar()\n",
        "plt.xticks(tick_marks, classes, rotation=45)\n",
        "plt.yticks(tick_marks, classes)\n",
        "plt.xlabel('Prediction')\n",
        "plt.ylabel('Target')\n",
        "\n",
        "# Add text annotations\n",
        "thresh = matrix_unfrozen.max() / 2.0\n",
        "for i in range(matrix_unfrozen.shape[0]):\n",
        "    for j in range(matrix_unfrozen.shape[1]):\n",
        "        plt.text(j, i, format(matrix_unfrozen[i, j], 'd'),\n",
        "                 ha=\"center\", va=\"center\",\n",
        "                 color=\"white\" if matrix_unfrozen[i, j] > thresh else \"black\")\n",
        "\n",
        "plt.tight_layout()\n",
        "\n",
        "plt.show()"
      ]
    }
  ],
  "metadata": {
    "interpreter": {
      "hash": "2dd53f8ad749bca69f7250ce75eb4f0def59db5cf79075a9716322ffc58e8a2e"
    },
    "kernelspec": {
      "display_name": "Python 3",
      "name": "python3"
    },
    "language_info": {
      "codemirror_mode": {
        "name": "ipython",
        "version": 3
      },
      "file_extension": ".py",
      "mimetype": "text/x-python",
      "name": "python",
      "nbconvert_exporter": "python",
      "pygments_lexer": "ipython3",
      "version": "3.8.13"
    },
    "orig_nbformat": 4,
    "colab": {
      "provenance": [],
      "gpuType": "T4"
    },
    "accelerator": "GPU"
  },
  "nbformat": 4,
  "nbformat_minor": 0
}