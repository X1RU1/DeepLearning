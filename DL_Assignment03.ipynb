{
  "cells": [
    {
      "cell_type": "markdown",
      "metadata": {
        "id": "WsmaLLE29kj6"
      },
      "source": [
        "### Group Members:\n",
        "\n",
        "- Xirui Yang, 23-756-265"
      ]
    },
    {
      "cell_type": "markdown",
      "metadata": {
        "id": "TZY1LIWi9kj7"
      },
      "source": [
        "# Assignment 3: Universal Function Approximator\n",
        "\n",
        "\n",
        "The goal of this exercise is to train a two-layer fully-connected network to perform one-dimensional non-linear regression via gradient descent. To show the flexibility of the approach, three different functions will be approximated. First, the network and its gradient need to be implemented. Second, target data for three different functions will be generated. Finally, the training procedure will be applied to the data, and the resulting approximated function will be plotted together with the data samples.\n",
        "\n",
        "## Network Implementation\n",
        "\n",
        "A two-layer network is defined by parameters $\\Theta=(\\mathbf W^{(1)},\\vec w^{(2)})$ that are split into $\\mathbf W^{(1)}\\in\\mathbb R^{K\\times {(D+1)}}$ for the first layer and $\\vec w^{(2)}\\in\\mathbb R^{K+1}$ for the second layer. In our case, since we have only a single input, we have $D=1$.\n",
        "For a given input $\\vec x = (1, x)^T$, the network is implemented in three steps:\n",
        "\n",
        "1. Compute the first layer output, aka, the activation: $\\vec a_- = \\mathbf W^{(1)} \\vec x$\n",
        "2. Apply the activation function for each element of $\\vec a_- : \\vec h_- = g(\\vec a_-)$ and prepend the bias neuron $h_0=1$ to arrive at $\\vec h$.\n",
        "3. Compute the output of the network: $y = \\vec w^{(2)}\\ ^T\\vec h$.\n",
        "\n",
        "### Task 1  \n",
        "Implement a function that returns the network output for a given input $\\vec x$ and parameters $\\Theta=(\\mathbf W^{(1)}, \\vec w^{(2)})$. Remember that the input of the function $\\vec x = (1, x)^T$. Also remember to prepend $h_0=1$ in your implementation.\n",
        "\n",
        "We use sigmoid $(\\sigma)$ as the activation function:\n",
        "\n",
        "\\begin{equation*}\n",
        "    \\sigma(a) =  \\frac{\\mathrm{1} }{\\mathrm{1} + e^{-a} }\n",
        "\\end{equation*}\n",
        "\n",
        "Note:\n",
        "\n",
        "1. Use the `numpy` to implement the sigmoid function.\n",
        "2. Use `numpy.concatenate` or `numpy.insert` to prepend $h_0$.\n",
        "3. Make use of `numpy.dot` to compute matrix-vector and vector-vector products."
      ]
    },
    {
      "cell_type": "code",
      "execution_count": 38,
      "metadata": {
        "id": "jm3q8SEW9kj8"
      },
      "outputs": [],
      "source": [
        "import numpy as np\n",
        "import math\n",
        "\n",
        "def logistic(x):\n",
        "    return 1 / (1 + np.exp(-x))\n",
        "\n",
        "# W1: (K, D+1), w2: (K+1, 1), x: (D+1, 1), a_, h_: (K, 1), h: (K+1, 1), y: (1)\n",
        "\n",
        "def network(x, Theta):\n",
        "    W1, w2 = Theta\n",
        "    a_ = np.dot(W1, x)   # only row vector can dot product  !!!\n",
        "    h_ = logistic(a_)\n",
        "    h = np.insert(h_, 0, 1)\n",
        "    y = np.dot(w2, h)\n",
        "    return y, h"
      ]
    },
    {
      "cell_type": "markdown",
      "metadata": {
        "id": "FKezPt5Y9kj9"
      },
      "source": [
        "Test 1: Sanity Check\n",
        "----------------------------\n",
        "\n",
        "We select a specific number of hidden neurons and create the weights accordingly, using all zeros in the first layer and all ones in the second. The test case below assures that the function from Task 1 actually returns $11$ for those weights.\n",
        "\n",
        "Note: your function should pass the test below."
      ]
    },
    {
      "cell_type": "code",
      "execution_count": 39,
      "metadata": {
        "colab": {
          "base_uri": "https://localhost:8080/"
        },
        "id": "Lb-Kto0g9kj9",
        "outputId": "f008c75c-5efc-41b6-a0c7-40ecfd029024"
      },
      "outputs": [
        {
          "output_type": "stream",
          "name": "stdout",
          "text": [
            "Test passed\n"
          ]
        }
      ],
      "source": [
        "K = 20\n",
        "D = 1\n",
        "W1 = np.zeros((K, D+1))\n",
        "w2 = np.ones(K+1)\n",
        "x = np.random.rand(D+1) # row vector\n",
        "\n",
        "y, _ = network(x, (W1, w2))\n",
        "assert abs(11 - y) < 1e-6\n",
        "print(\"Test passed\")"
      ]
    },
    {
      "cell_type": "markdown",
      "metadata": {
        "id": "xfQS9YRG9kj-"
      },
      "source": [
        "## Gradient Implementation\n",
        "\n",
        "In order to perform gradient descent, we need to define a loss function. As provided in the lecture, the $\\mathcal J^{L_2}$ loss function is defined over a dataset $X=\\{(\\vec x^{[n]}, t^{[n]})\\}$, that is defined as a list of tuples, as follows:\n",
        "\n",
        "$$\n",
        "   \\mathcal J^{L_2} = \\frac{1}{N}\\sum_{i=1}^N (y^{[n]}-t^{[n]})^2\n",
        "$$\n",
        "\n",
        "where $y^{[n]}$ is the output of the network from Task 1 when inputting $\\vec x^{[n]}$. Interestingly, however, we never explicitly need to compute the output of the loss function. It is only used to analytically compute the gradient as shown in the lecture.\n",
        "\n",
        "The gradient is composed of two items, one for each layer. Particularly, for a given dataset $X$, the gradient of loss $J^{L_2}$ is defined as:\n",
        "\n",
        "\\begin{align}\n",
        "  \\frac{\\partial \\mathcal J}{\\partial w_{kd}^{(1)}} &= \\frac{2}{N} \\sum\\limits_{n=1}^N (y^{[n]}-t^{[n]}) w_{k}^{(2)} (1-h_{k}^{[n]}) h_{k}^{[n]} x_{d}^{[n]}\\\\\n",
        "  \\frac{\\partial \\mathcal J}{\\partial w_{k}^{(2)}} &= \\frac{2}{N} \\sum\\limits_{n=1}^N (y^{[n]}-t^{[n]}) h_{k}^{[n]}\n",
        "\\end{align}\n",
        "\n",
        "### Task 2\n",
        "Implement a function that returns the gradient as defined in $(1)$ and $(2)$ for a given dataset $X$, and given weights $\\Theta=(\\mathbf W^{(1)},\\vec w^{(2)})$. Make sure that both parts of the gradient are computed.\n",
        "\n",
        "Hint:\n",
        "\n",
        "1. Make use of the the function implemented in Task 1 where appropriate\n",
        "\n",
        "Note:\n",
        "\n",
        "  1. This is a slow implementation. We will see how to speed this up in the next lecture.\n",
        "  2. You can make use of `numpy.zeros` to initialize the gradient.\n",
        "  3. The outer product can be computed via `numpy.outer`.\n",
        "  4. Remember that we used the $logistic$ activation function in our network."
      ]
    },
    {
      "cell_type": "code",
      "execution_count": 40,
      "metadata": {
        "id": "AkOiVXvG9kj-"
      },
      "outputs": [],
      "source": [
        "def gradient(X, Theta):\n",
        "    # split parameters for easier handling\n",
        "    W1, w2 = Theta\n",
        "\n",
        "    # define gradient with respect to both parameters\n",
        "    dW1 = np.zeros(W1.shape)\n",
        "    dw2 = np.zeros(w2.shape)\n",
        "\n",
        "    # iterate over dataset\n",
        "    for x, t in X:\n",
        "        # compute the gradient\n",
        "        y, h = network(x, Theta)\n",
        "        error = y - t\n",
        "\n",
        "        # output layer\n",
        "        dw2 += 2 * error * h\n",
        "        # hidden layer\n",
        "        dW1 += np.outer(2 * error * w2[1:] * h[1:] * (1-h[1:]), x)  # 1-h[1:] -> h is array\n",
        "\n",
        "    # anything else?\n",
        "    dW1 /= len(X)\n",
        "    dw2 /= len(X)\n",
        "\n",
        "    return dW1, dw2"
      ]
    },
    {
      "cell_type": "markdown",
      "metadata": {
        "id": "nkjiueF99kj-"
      },
      "source": [
        "## Gradient Descent\n",
        "\n",
        "The procedure of gradient descent is the repeated application of two steps.\n",
        "\n",
        "1. The gradient of loss $\\nabla_{\\Theta}\\mathcal J^{L_2}$ is computed based on the current value of the parameters $\\Theta=(\\mathbf W^{(1)},\\vec w^{(2)})$.\n",
        "2. The weights are updated by moving a small step $\\eta$ into the direction of the negative gradient:\n",
        "\n",
        "$$\n",
        "    \\Theta = \\Theta - \\eta \\nabla_{\\Theta}\\mathcal J\n",
        "$$\n",
        "\n",
        "As stopping criterion, we select the number of training epochs to be 10000.\n",
        "\n",
        "### Task 3\n",
        "Implement a function that performs gradient descent for a given dataset $X$, given initial parameters $\\Theta$ and a given learning rate $\\eta$ and returns the optimized parameters $\\Theta^*$."
      ]
    },
    {
      "cell_type": "code",
      "execution_count": 41,
      "metadata": {
        "id": "vGqAqU1h9kj-"
      },
      "outputs": [],
      "source": [
        "def gradient_descent(X, Theta, eta):\n",
        "    epochs = 10000\n",
        "    # perform iterative gradient descent\n",
        "    for epoch in range(epochs):\n",
        "        # compute the gradient\n",
        "        dW1, dw2 = gradient(X, Theta)\n",
        "\n",
        "        # update the parameters\n",
        "        W1, w2 = Theta\n",
        "        W1 -= eta * dW1 # Theta[0]\n",
        "        w2 -= eta * dw2 # Theta[1]\n",
        "        Theta = (W1, w2)\n",
        "\n",
        "    # return optimized parameters\n",
        "    return Theta"
      ]
    },
    {
      "cell_type": "markdown",
      "metadata": {
        "id": "HlWdh85s9kj-"
      },
      "source": [
        "## Generate Datasets\n",
        "\n",
        "In total, we will test our gradient descent function with three different datasets. Particularly, we approximate:\n",
        "\n",
        "1. $X_1: t = \\sin(3x)$ for $x\\in[-1,1]$\n",
        "2. $X_2: t = e^{-4x^2}$ for $x\\in[-1,1]$\n",
        "3. $X_3: t = x^5 + 3x^4 - 6x^3 -12x^2 + 5x + 129$ for $x\\in[-4,2.5]$\n",
        "\n",
        "### Task 4\n",
        "\n",
        "Generate dataset $X_1$, for $N=60$ samples randomly drawn from range $x\\in[-1,1]$.\n",
        "Generate data $X_2$ for $N=50$ samples randomly drawn from range $x\\in[-1,1]$.\n",
        "Generate dataset $X_3$ for $N=200$ samples randomly drawn from range $x\\in[-4,2.5]$.\n",
        "Implement all three datasets as lists of tuples: $\\{(\\vec x^{[n]}, t^{[n]})\\mid 1\\leq n\\leq N\\}$.\n",
        "\n",
        "Note:\n",
        "\n",
        "  1. You can use `numpy.random.uniform` to create uniformly distributed samples for $x$.\n",
        "  2. Make sure that $\\vec x = (1, x)^T$ for each sample.\n",
        "  3. You can make use of `numpy.sin`, `numpy.exp` and `numpy.pow` to compute target values."
      ]
    },
    {
      "cell_type": "code",
      "execution_count": 42,
      "metadata": {
        "id": "rnK7-OnQ9kj_"
      },
      "outputs": [],
      "source": [
        "X1 = []\n",
        "for i in range(60):\n",
        "    x = np.random.uniform(-1, 1)\n",
        "    t = np.sin(3 * x)\n",
        "    X1.append((np.array([1, x]), t))\n",
        "\n",
        "X2 = []\n",
        "for i in range(50):\n",
        "    x = np.random.uniform(-1, 1)\n",
        "    t = np.exp(-4 * x**2)\n",
        "    X2.append((np.array([1, x]), t))\n",
        "\n",
        "X3 = []\n",
        "for i in range(200):\n",
        "    x = np.random.uniform(-4, 2.5)\n",
        "    t = x**5 + 3 * x**4 - 6 * x**3 - 12 * x**2 + 5 * x + 129\n",
        "    X3.append((np.array([1, x]), t))"
      ]
    },
    {
      "cell_type": "code",
      "source": [
        "print(X1)"
      ],
      "metadata": {
        "colab": {
          "base_uri": "https://localhost:8080/"
        },
        "id": "aBml09GA_F-k",
        "outputId": "7b993410-dcff-4227-f8f8-97699bb07fe3"
      },
      "execution_count": 50,
      "outputs": [
        {
          "output_type": "stream",
          "name": "stdout",
          "text": [
            "[(array([ 1.        , -0.97345754]), -0.2194200904958322), (array([1.       , 0.9056634]), 0.4119585682497451), (array([1.        , 0.69691959]), 0.8678378477108714), (array([ 1.        , -0.21750736]), -0.6071922760946822), (array([ 1.        , -0.13003347]), -0.3802812879121899), (array([ 1.        , -0.23258659]), -0.6425026403328213), (array([1.       , 0.4527917]), 0.9775233168131646), (array([ 1.        , -0.24717796]), -0.6754198485360607), (array([ 1.        , -0.98279189]), -0.1920169905135086), (array([1.        , 0.87451924]), 0.49517385013155324), (array([1.        , 0.29498329]), 0.7738832360044886), (array([ 1.        , -0.40531478]), -0.9376979293506701), (array([1.        , 0.94639599]), 0.29781663530837593), (array([1.        , 0.27239509]), 0.7292226667863009), (array([ 1.        , -0.29295263]), -0.7700106710350367), (array([ 1.        , -0.46397031]), -0.9840426284051514), (array([1.        , 0.69544757]), 0.8700234862752426), (array([ 1.        , -0.47821139]), -0.990744247312117), (array([1.        , 0.14348408]), 0.41728182983680207), (array([1.        , 0.70509812]), 0.8553874128983806), (array([ 1.       , -0.0858761]), -0.2547878536867105), (array([ 1.        , -0.08146676]), -0.2419744656453095), (array([1.        , 0.91995469]), 0.37252519691074787), (array([ 1.        , -0.35435371]), -0.8738479009281185), (array([1.        , 0.64141654]), 0.9381829889176939), (array([ 1.        , -0.05587426]), -0.16683891478850968), (array([ 1.       , -0.7781616]), -0.7222900073587635), (array([ 1.        , -0.27694805]), -0.7385008083323326), (array([1.        , 0.01091985]), 0.03275368624778365), (array([ 1.        , -0.69288293]), -0.8737908672054526), (array([1.        , 0.54973769]), 0.9969269830584503), (array([ 1.        , -0.28490105]), -0.7543760878221596), (array([1.        , 0.38484723]), 0.9146097477536532), (array([1.        , 0.92107825]), 0.36939501956208276), (array([1.       , 0.1996119]), 0.5636811546347398), (array([1.      , 0.512107]), 0.9994057843507038), (array([1.        , 0.45290718]), 0.9775962985224961), (array([ 1.        , -0.90527318]), -0.41302500795859176), (array([1.       , 0.0876267]), 0.259862770148409), (array([1.       , 0.2281258]), 0.6321907358291691), (array([ 1.        , -0.56026476]), -0.993956323737904), (array([1.        , 0.78139641]), 0.7155446264246881), (array([ 1.        , -0.77609466]), -0.726564540860708), (array([ 1.        , -0.77639021]), -0.7259550368197444), (array([ 1.        , -0.48545946]), -0.9934614044887805), (array([1.        , 0.57417498]), 0.9885112796108421), (array([ 1.        , -0.61542383]), -0.9622960561491816), (array([ 1.        , -0.96525793]), -0.24335064299375417), (array([ 1.        , -0.90824863]), -0.40487924611725373), (array([ 1.        , -0.94806172]), -0.29304249803786053), (array([ 1.        , -0.40209975]), -0.9343031662742025), (array([1.        , 0.48408095]), 0.9929807620706312), (array([1.        , 0.19328692]), 0.5479074680611342), (array([1.       , 0.7843802]), 0.7092629099765857), (array([ 1.        , -0.78845538]), -0.7005917990615231), (array([ 1.        , -0.48931468]), -0.9947153652238274), (array([1.        , 0.01191476]), 0.035736655252076414), (array([ 1.        , -0.30762177]), -0.7973342229445732), (array([ 1.        , -0.56796707]), -0.9911546170531093), (array([1.        , 0.68952568]), 0.8786443777599767)]\n"
          ]
        }
      ]
    },
    {
      "cell_type": "markdown",
      "metadata": {
        "id": "EmRU_1Ez9kj_"
      },
      "source": [
        "### Test 2: Sanity Check\n",
        "\n",
        "The test case below assures that the elements of each generated dataset are tuples with two elements, that the first element ($\\vec x$) is a vector with two numbers, and that the second element ($t$) is a float."
      ]
    },
    {
      "cell_type": "code",
      "execution_count": 43,
      "metadata": {
        "colab": {
          "base_uri": "https://localhost:8080/"
        },
        "id": "_5mWCih09kj_",
        "outputId": "2dbf5196-7991-4df4-ae2a-d8ba5b42cad6"
      },
      "outputs": [
        {
          "output_type": "stream",
          "name": "stdout",
          "text": [
            "Test passed!\n"
          ]
        }
      ],
      "source": [
        "assert all(\n",
        "    isinstance(x, (tuple,list)) and\n",
        "    len(x) == 2 and\n",
        "    isinstance(x[0], (tuple,list,np.ndarray)) and\n",
        "    len(x[0]) == 2 and\n",
        "    isinstance(x[1], float)\n",
        "    for X in (X1, X2, X3)\n",
        "    for x in X\n",
        ")\n",
        "\n",
        "print('Test passed!')"
      ]
    },
    {
      "cell_type": "markdown",
      "metadata": {
        "id": "mdT07izQ9kj_"
      },
      "source": [
        "## Function Approximation\n",
        "\n",
        "Finally, we want to make use of our gradient descent implementation to approximate our functions. In order to see our success, we want to plot the functions together with the data.\n",
        "\n",
        "### Task 5 (theoretical question)\n",
        "\n",
        "When looking at the example plots in the exercise slides (exemplary solutions for the plotting Task 8), how many hidden neurons $K$ do we need in order to approximate the functions? Is there any difference between the three target functions? **Please discuss it in the markdown cell below:**"
      ]
    },
    {
      "cell_type": "markdown",
      "metadata": {
        "id": "jG0Hg6n49kj_"
      },
      "source": [
        "(see picture from lecture)Function X1 is periodic, which can be approximated by a small number of hidden neurons.\n",
        "Function X2 is smooth but its curvatance changes significantly, which needs more neurons.\n",
        "Function X3 is a quintic polynomial, which is nonlinear and has both local minima and maxima. It needs more neurons."
      ]
    },
    {
      "cell_type": "code",
      "execution_count": 44,
      "metadata": {
        "id": "3SWWaEyE9kj_"
      },
      "outputs": [],
      "source": [
        "# Define the number of neurons for each target function based on your discussion\n",
        "K1 = 5\n",
        "K2 = 10\n",
        "K3 = 20"
      ]
    },
    {
      "cell_type": "markdown",
      "metadata": {
        "id": "Pl4vrTC89kj_"
      },
      "source": [
        "### Task 6\n",
        "\n",
        "For each of the datasets, randomly initialize the parameters $\\Theta_1,\\Theta_2,\\Theta_3\\in[-1,1]$ according to the number of hidden neurons estimated in Task 5.\n",
        "\n",
        "Note:\n",
        "\n",
        "  1. You can use `numpy.random.uniform` to initialize the weights.\n",
        "  2. Make sure that the weight matrices are instantiated in the correct dimensions."
      ]
    },
    {
      "cell_type": "code",
      "execution_count": 45,
      "metadata": {
        "id": "IQoTEOrN9kj_"
      },
      "outputs": [],
      "source": [
        "Theta1 = (np.random.uniform(-1, 1, (K1, D+1)), np.random.uniform(-1, 1, K1 + 1))\n",
        "Theta2 = (np.random.uniform(-1, 1, (K2, D+1)), np.random.uniform(-1, 1, K2 + 1))\n",
        "Theta3 = (np.random.uniform(-1, 1, (K3, D+1)), np.random.uniform(-1, 1, K3 + 1))"
      ]
    },
    {
      "cell_type": "markdown",
      "metadata": {
        "id": "FkbAFGL69kj_"
      },
      "source": [
        "### Task 7\n",
        "\n",
        "Call gradient descent function from Task 3 using the datasets $X_1, X_2, X_3$, the according created parameters $\\Theta_1,\\Theta_2,\\Theta_3$. Store the resulting optimized weights $\\Theta_1^*, \\Theta_2^*, \\Theta_3^*$ and the loss values.\n",
        "\n",
        "**Please discuss first the appropriate learning rate $\\eta$  for each of the three functions in the markdown cell below.** Based on your learning rates, you may neeed to optimize the learning rate $\\eta$ for these functions. Do you see any differences? What are the best learning rates that you can find?\n",
        "\n",
        "WARNING: Depending on the implementation, this might run for several minutes!"
      ]
    },
    {
      "cell_type": "markdown",
      "metadata": {
        "id": "uxjRFtcG9kj_"
      },
      "source": [
        "Function X1 is smooth and does not have steep changes. 𝜂 = 0.01 or 0.1.\n",
        "Function X2 has rapid changes near the center of the range. 𝜂 = 0.01 or 0.001.\n",
        "Function X3 is highly nonlinear. 𝜂 = 0.001 or 0.0001."
      ]
    },
    {
      "cell_type": "code",
      "execution_count": 46,
      "metadata": {
        "id": "PWCfG3-w9kkA"
      },
      "outputs": [],
      "source": [
        "# Call gradient descent function using the datasets and initial weights that you created above\n",
        "# Choose appropriate learning rates for each function\n",
        "eta1 = 0.1\n",
        "eta2 = 0.01\n",
        "eta3 = 0.001\n",
        "\n",
        "Theta_star1 = gradient_descent(X1, Theta1, eta1)\n",
        "Theta_star2 = gradient_descent(X2, Theta2, eta2)\n",
        "Theta_star3 = gradient_descent(X3, Theta3, eta3)"
      ]
    },
    {
      "cell_type": "markdown",
      "metadata": {
        "id": "MPfEcm1h9kkA"
      },
      "source": [
        "## Data and Function Plotting\n",
        "\n",
        "### Task 8\n",
        "\n",
        "Implement a plotting function that takes a given dataset $X$, given parameters $\\Theta$ and a defined range $R=[min,max]$. Each data sample $(x^{[n]},t^{[n]})$ of the dataset is plotted as an $''x''$. In order to plot the function that is approximated by the network, generate sufficient equally-spaced input values $x\\in R$, compute the network output $y$ for these inputs, and plot them with a line.\n",
        "\n",
        "Note:\n",
        "\n",
        "  1. The dataset $X$ is defined as above, a list of tuples $(\\vec x, t)$.\n",
        "  2. Each input in the dataset is defined as $\\vec x = (1,x)^T$.\n",
        "  3. Equidistant points can be obtained via `numpy.arange`."
      ]
    },
    {
      "cell_type": "code",
      "execution_count": 61,
      "metadata": {
        "id": "B7n0-gQl9kkA"
      },
      "outputs": [],
      "source": [
        "from matplotlib import pyplot as plt\n",
        "def plot(X, Theta, R):\n",
        "    W1, w2 = Theta\n",
        "    min_x, max_x = R\n",
        "    # X = (x, t), x = (1, x1)\n",
        "    # first, plot data samples\n",
        "    plt.plot([x[1] for x,t in X], [t for x,t in X], \"rx\", label=\"Data\")\n",
        "\n",
        "    # define equidistant points from min (R[0]) to max (R[1]) to evaluate the network\n",
        "    x = np.arange(min_x, max_x, step=(max_x - min_x)/1000)\n",
        "    # compute the network outputs for these values\n",
        "    y = [network(np.array([1, v]), Theta)[0] for v in x]\n",
        "\n",
        "    # plot network approximation\n",
        "    plt.plot(x,y,\"k-\", label=\"network\")\n",
        "    plt.xlabel('x')\n",
        "    plt.ylabel('y')\n",
        "    plt.title('Function Approximation')\n",
        "    plt.legend()"
      ]
    },
    {
      "cell_type": "markdown",
      "metadata": {
        "id": "ZZfib2ow9kkA"
      },
      "source": [
        "### Task 9\n",
        "\n",
        "For each of the datasets and their according optimized parameters, call the plotting function from Task 8. Use range $R=[-1.5,1.5]$ for dataset $X_1$ and $X_2$, and range $R=[-5,4]$ for dataset $X_3$. Note that the first element of range $R$ should be the lowest $x$-location, and the second element of $R$ the highest value for $x$. Did the networks approximate the functions? What can we do if not?"
      ]
    },
    {
      "cell_type": "code",
      "execution_count": 62,
      "metadata": {
        "colab": {
          "base_uri": "https://localhost:8080/",
          "height": 333
        },
        "id": "Sf5p8hSr9kkA",
        "outputId": "7fae9c10-f3f9-4a39-ff7b-2bf62e5c5b1c"
      },
      "outputs": [
        {
          "output_type": "display_data",
          "data": {
            "text/plain": [
              "<Figure size 1000x300 with 3 Axes>"
            ],
            "image/png": "[encoded data removed]"
          },
          "metadata": {}
        }
      ],
      "source": [
        "figure = plt.figure(figsize=(10,3))\n",
        "\n",
        "range_x1_x2 = [-1.5, 1.5]\n",
        "range_x3 = [-5, 4]\n",
        "\n",
        "# plot first function\n",
        "plt.subplot(131)\n",
        "plot(X1, Theta_star1, range_x1_x2)\n",
        "plt.title('Dataset X1')\n",
        "\n",
        "# plot second function\n",
        "plt.subplot(132)\n",
        "plot(X2, Theta_star2, range_x1_x2)\n",
        "plt.title('Dataset X2')\n",
        "\n",
        "# plot third function\n",
        "plt.subplot(133)\n",
        "plot(X3, Theta_star3, range_x3)\n",
        "plt.title('Dataset X3')\n",
        "\n",
        "plt.show()"
      ]
    }
  ],
  "metadata": {
    "interpreter": {
      "hash": "2dd53f8ad749bca69f7250ce75eb4f0def59db5cf79075a9716322ffc58e8a2e"
    },
    "kernelspec": {
      "display_name": "Python 3 (ipykernel)",
      "language": "python",
      "name": "python3"
    },
    "language_info": {
      "codemirror_mode": {
        "name": "ipython",
        "version": 3
      },
      "file_extension": ".py",
      "mimetype": "text/x-python",
      "name": "python",
      "nbconvert_exporter": "python",
      "pygments_lexer": "ipython3",
      "version": "3.10.9"
    },
    "colab": {
      "provenance": []
    }
  },
  "nbformat": 4,
  "nbformat_minor": 0
}